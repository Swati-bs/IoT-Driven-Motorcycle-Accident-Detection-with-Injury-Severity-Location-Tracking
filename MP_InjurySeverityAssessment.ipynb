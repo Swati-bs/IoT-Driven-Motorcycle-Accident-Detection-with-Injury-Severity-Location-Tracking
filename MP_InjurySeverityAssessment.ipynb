{
  "nbformat": 4,
  "nbformat_minor": 0,
  "metadata": {
    "colab": {
      "provenance": []
    },
    "kernelspec": {
      "name": "python3",
      "display_name": "Python 3"
    },
    "language_info": {
      "name": "python"
    }
  },
  "cells": [
    {
      "cell_type": "code",
      "execution_count": null,
      "metadata": {
        "id": "cFxUZLuzmAkU"
      },
      "outputs": [],
      "source": []
    },
    {
      "cell_type": "code",
      "source": [
        "import pandas as pd\n",
        "from sklearn.model_selection import train_test_split, GridSearchCV\n",
        "from xgboost import XGBClassifier\n",
        "from sklearn.metrics import classification_report\n",
        "import warnings\n",
        "\n",
        "warnings.filterwarnings(\"ignore\")\n",
        "\n",
        "# Step 1: Load data\n",
        "data = pd.read_csv(\"injury_severity_data.csv\")\n",
        "\n",
        "# Step 2: Encode labels\n",
        "data['severity'] = data['severity'].map({'Minor': 0, 'Moderate': 1, 'Severe': 2})\n",
        "\n",
        "# Step 3: Prepare features and labels\n",
        "X = data.drop('severity', axis=1)\n",
        "y = data['severity']\n",
        "\n",
        "# Step 4: Train-test split\n",
        "X_train, X_test, y_train, y_test = train_test_split(X, y, test_size=0.2, random_state=42)\n",
        "\n",
        "# Step 5: Train with XGBoost and hyperparameter tuning\n",
        "params = {\n",
        "    'max_depth': [3, 4],\n",
        "    'learning_rate': [0.05, 0.1],\n",
        "    'n_estimators': [100, 150],\n",
        "    'subsample': [0.7, 1.0],\n",
        "    'colsample_bytree': [0.8, 1.0],\n",
        "    'min_child_weight': [1, 3]\n",
        "}\n",
        "grid = GridSearchCV(XGBClassifier(random_state=42, use_label_encoder=False, eval_metric='mlogloss'),\n",
        "                    params, cv=3, scoring='accuracy')\n",
        "grid.fit(X_train, y_train)\n",
        "\n",
        "# Step 6: Evaluation\n",
        "print(\"Best parameters:\", grid.best_params_)\n",
        "y_pred = grid.predict(X_test)\n",
        "print(classification_report(y_test, y_pred, target_names=['Minor', 'Moderate', 'Severe']))\n",
        "\n",
        "# Step 7: Live prediction\n",
        "live_input = pd.DataFrame([{\n",
        "    'heart_rate': 59,\n",
        "    'spo2': 93,\n",
        "    'temperature': 35.6,\n",
        "    'age': 70,\n",
        "    'has_asthma': 1,\n",
        "    'has_diabetes': 0\n",
        "}])\n",
        "\n",
        "pred = grid.predict(live_input)[0]\n",
        "severity_map = {0: 'Minor', 1: 'Moderate', 2: 'Severe'}\n",
        "print(\"Predicted Injury Severity:\", severity_map[pred])\n"
      ],
      "metadata": {
        "colab": {
          "base_uri": "https://localhost:8080/"
        },
        "id": "BkCxJELikCjH",
        "outputId": "060dd2b3-0972-4cea-ac09-c3570c2c5330"
      },
      "execution_count": 5,
      "outputs": [
        {
          "output_type": "stream",
          "name": "stdout",
          "text": [
            "Best parameters: {'colsample_bytree': 0.8, 'learning_rate': 0.05, 'max_depth': 3, 'min_child_weight': 1, 'n_estimators': 150, 'subsample': 0.7}\n",
            "              precision    recall  f1-score   support\n",
            "\n",
            "       Minor       1.00      1.00      1.00        15\n",
            "    Moderate       1.00      1.00      1.00        29\n",
            "      Severe       1.00      1.00      1.00        56\n",
            "\n",
            "    accuracy                           1.00       100\n",
            "   macro avg       1.00      1.00      1.00       100\n",
            "weighted avg       1.00      1.00      1.00       100\n",
            "\n",
            "Predicted Injury Severity: Moderate\n"
          ]
        }
      ]
    }
  ]
}